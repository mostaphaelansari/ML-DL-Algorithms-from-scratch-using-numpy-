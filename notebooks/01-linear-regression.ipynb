{
 "cells": [
  {
   "cell_type": "code",
   "execution_count": 6,
   "id": "640fb989",
   "metadata": {},
   "outputs": [],
   "source": [
    "import numpy as np\n",
    "import os\n"
   ]
  },
  {
   "cell_type": "code",
   "execution_count": 7,
   "id": "a1d40960",
   "metadata": {},
   "outputs": [],
   "source": [
    "import sys\n",
    "import os\n",
    "\n",
    "# Go one level up from /notebooks to the project root\n",
    "sys.path.append(os.path.abspath(os.path.join(os.getcwd(), \"..\")))\n",
    "\n",
    "from utils import mean_squared_error, root_mean_squared_error\n"
   ]
  },
  {
   "cell_type": "code",
   "execution_count": 8,
   "id": "7efbea38",
   "metadata": {},
   "outputs": [],
   "source": [
    "class LinearRegression :\n",
    "    def __init__(self, lr: int = 0.01, n_iters: int = 1000) -> None:\n",
    "        self.lr = lr\n",
    "        self.n_iters = n_iters\n",
    "        self.weights = None\n",
    "        self.bias = None\n",
    "\n",
    "    def fit(self,X : np.ndarray,y :np.ndarray) -> None:\n",
    "        \"\"\"\n",
    "            the fit function is the responsable for the training \n",
    "        \"\"\"\n",
    "        n_samples,n_features = X.shape\n",
    "        self.weights = np.zeros(n_features)\n",
    "        self.bias  = 0 \n",
    "\n",
    "        for _ in range(self.n_iters) : \n",
    "            y_pred = np.dot(X,self.weights) +self.bias \n",
    "            dw = (1 / n_samples) * np.dot(X.T, (y_pred - y))\n",
    "            db = (1 / n_samples) * np.sum(y_pred - y)\n",
    "\n",
    "            self.weights -= self.lr * dw\n",
    "            self.bias -= self.lr * db\n",
    "\n",
    "    def predict(self, X : np.ndarray) -> np.ndarray:\n",
    "        \"\"\"\n",
    "        the function to predict using the matrix X\n",
    "        \"\"\"\n",
    "        return np.dot(X, self.weights) + self.bias\n",
    "\n",
    "    def evaluate(self, X: np.ndarray, y: np.ndarray) -> float:\n",
    "        y_pred = self.predict(X)\n",
    "        return mean_squared_error(y, y_pred)\n"
   ]
  },
  {
   "cell_type": "code",
   "execution_count": null,
   "id": "c45bb32b",
   "metadata": {},
   "outputs": [],
   "source": []
  }
 ],
 "metadata": {
  "kernelspec": {
   "display_name": "ML_numpy",
   "language": "python",
   "name": "python3"
  },
  "language_info": {
   "codemirror_mode": {
    "name": "ipython",
    "version": 3
   },
   "file_extension": ".py",
   "mimetype": "text/x-python",
   "name": "python",
   "nbconvert_exporter": "python",
   "pygments_lexer": "ipython3",
   "version": "3.10.16"
  }
 },
 "nbformat": 4,
 "nbformat_minor": 5
}
